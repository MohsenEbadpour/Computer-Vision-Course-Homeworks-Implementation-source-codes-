{
 "cells": [
  {
   "cell_type": "code",
   "execution_count": 1,
   "metadata": {},
   "outputs": [],
   "source": [
    "import numpy as np \n",
    "import pandas as pd\n",
    "import matplotlib.pyplot as plt\n",
    "import cv2 \n",
    "import seaborn as sns\n",
    "from itertools import permutations \n",
    "\n"
   ]
  },
  {
   "cell_type": "markdown",
   "metadata": {},
   "source": [
    "# Problem #1 : cvtColor"
   ]
  },
  {
   "cell_type": "code",
   "execution_count": 2,
   "metadata": {},
   "outputs": [
    {
     "data": {
      "text/plain": [
       "True"
      ]
     },
     "execution_count": 2,
     "metadata": {},
     "output_type": "execute_result"
    }
   ],
   "source": [
    "in_img = cv2.imread(\"./MeeseeksHQ.png\")\n",
    "gray_img = cv2.cvtColor(in_img,cv2.COLOR_BGR2GRAY)\n",
    "gray_3_channel = np.stack((gray_img,)*3, axis=-1)\n",
    "out_img = cv2.hconcat([in_img,gray_3_channel])\n",
    "cv2.imwrite(\"./outputs/P1-Gray using cvtColor.png\",out_img)"
   ]
  },
  {
   "cell_type": "markdown",
   "metadata": {},
   "source": [
    "# Problem #2 : mr meeskees detection by color"
   ]
  },
  {
   "cell_type": "code",
   "execution_count": 3,
   "metadata": {},
   "outputs": [
    {
     "data": {
      "text/plain": [
       "True"
      ]
     },
     "execution_count": 3,
     "metadata": {},
     "output_type": "execute_result"
    }
   ],
   "source": [
    "in_img = cv2.imread(\"./mr meeskees.png\")\n",
    "b_ranges = list(range(49,96))\n",
    "g_ranges = list(range(88,142))\n",
    "r_ranges = list(range(99,146))\n",
    "\n",
    "mask = np.zeros_like(in_img,dtype=np.uint8)\n",
    "for row in range(in_img.shape[0]):\n",
    "    for col in range(in_img.shape[1]):\n",
    "        b,g,r = in_img[row,col]\n",
    "        if b in r_ranges and g in g_ranges and r in b_ranges:\n",
    "            mask[row,col] = [255,255,255]\n",
    "            \n",
    "mask = cv2.medianBlur(mask,3)\n",
    "out = cv2.vconcat([mask,cv2.bitwise_and(mask,in_img)])\n",
    "cv2.imwrite(\"./outputs/P2-mr meeskees detetion.png\",out)"
   ]
  },
  {
   "cell_type": "markdown",
   "metadata": {},
   "source": [
    "# Problem #3: Crop/Register/Colorize"
   ]
  },
  {
   "cell_type": "markdown",
   "metadata": {},
   "source": [
    "### Part one"
   ]
  },
  {
   "cell_type": "code",
   "execution_count": 27,
   "metadata": {},
   "outputs": [],
   "source": [
    "def SplitCropper(img):\n",
    "    UpBotT = 12\n",
    "    RightLeftT = 25\n",
    "    img = img[UpBotT:,:]\n",
    "    img = img[:img.shape[0]-UpBotT,:]\n",
    "    img = img[:,RightLeftT:]\n",
    "    img = img[:,:img.shape[1]-RightLeftT]\n",
    "    \n",
    "    H,_ = img.shape\n",
    "    Channels = []\n",
    "    Channels.append(img[:H//3,:])\n",
    "    Channels.append(img[H//3:H//3*2,:])\n",
    "    Channels.append(img[H//3*2:H-1,:])\n",
    "    return Channels"
   ]
  },
  {
   "cell_type": "markdown",
   "metadata": {},
   "source": [
    "### Part Two"
   ]
  },
  {
   "cell_type": "code",
   "execution_count": 28,
   "metadata": {},
   "outputs": [],
   "source": [
    "def ColorizeRGB(channels,Name=\"tmp.jpg\"):\n",
    "    perm = permutations([0,1, 2]) \n",
    "    imgs = []\n",
    "    for p in perm:\n",
    "        new_img = np.stack([channels[p[0]],channels[p[1]],channels[p[2]]],axis=2)\n",
    "        imgs.append(new_img)\n",
    "        \n",
    "    H1 = cv2.hconcat(imgs[:2])\n",
    "    H2 = cv2.hconcat(imgs[2:4])\n",
    "    H3 = cv2.hconcat(imgs[4:])\n",
    "    All = cv2.vconcat([H1,H2,H3])\n",
    "    All = cv2.cvtColor(All,cv2.COLOR_RGB2BGR)\n",
    "    cv2.imwrite(Name,All)\n",
    "    return imgs[-1]"
   ]
  },
  {
   "cell_type": "markdown",
   "metadata": {},
   "source": [
    "### Part Three"
   ]
  },
  {
   "cell_type": "code",
   "execution_count": 31,
   "metadata": {},
   "outputs": [],
   "source": [
    "def SortKey(item):\n",
    "    return item[0]\n",
    "\n",
    "def DeBlur(img_RGB):\n",
    "    H,W,_ = img_RGB.shape\n",
    "    Pad = 300\n",
    "    base = np.zeros((Pad+H,Pad+W,3))    \n",
    "    Pad = Pad//2\n",
    "    laps = []\n",
    "    \n",
    "    for i in range(3):\n",
    "        tmp = img_RGB[:,:,i].copy()\n",
    "        tmp = cv2.Laplacian(tmp,cv2.CV_64F)\n",
    "        laps.append(tmp)\n",
    "        \n",
    "    SearchL = 75\n",
    "    \n",
    "    # Constant Red Channel\n",
    "    base[Pad:Pad+H,Pad:Pad+W,0] = laps[0]\n",
    "    \n",
    "    #register\n",
    "    offsets = []\n",
    "    for index in [1,2]:\n",
    "        diffs = []\n",
    "        for row in range(Pad-SearchL,Pad+SearchL):\n",
    "            for col in range(Pad-SearchL,Pad+SearchL):\n",
    "                base[row:row+H,col:col+W,index] = laps[index]\n",
    "                dif = ((base[:,:,0]-base[:,:,index])**2).sum()\n",
    "                diffs.append([dif,row,col])\n",
    "                base[:,:,index] = 0\n",
    "                \n",
    "        diffs.sort(key=SortKey)\n",
    "        offset_ = diffs[0]\n",
    "        offsets.append(offset_)\n",
    "    \n",
    "    final_img = np.zeros_like(base,dtype=np.uint8)\n",
    "    final_img[Pad:Pad+H,Pad:Pad+W,0] = img_RGB[:,:,0]\n",
    "    for index in range(2):\n",
    "        row,col = offsets[index][1:]\n",
    "        final_img[row:row+H,col:col+W,index+1] = img_RGB[:,:,index+1]\n",
    "            \n",
    "    final_img = final_img[Pad:Pad+H,Pad:Pad+W,:]\n",
    "    \n",
    "    return final_img\n",
    "            \n",
    "    \n",
    "list_imgs = [\"./01.jpg\",\"02.jpg\",\"03.jpg\",\"04.jpg\"]\n",
    "I = 0\n",
    "for img_dir in list_imgs:\n",
    "    I+=1 \n",
    "    img = cv2.imread(img_dir,0)\n",
    "    img_org = img.copy()\n",
    "    channels = SplitCropper(img)\n",
    "    \n",
    "    RGB_img = ColorizeRGB(channels,\"./outputs/P3-Color channel try-{0}.jpg\".format(I))\n",
    "    deblur = DeBlur(RGB_img)\n",
    "    deblur_ = cv2.cvtColor(deblur,cv2.COLOR_RGB2BGR)\n",
    "    cv2.imwrite(\"./outputs/P3-Deblur-{0}.jpg\".format(I),deblur_)\n",
    "    \n",
    "    comp = cv2.vconcat([RGB_img,deblur])\n",
    "    comp_ = cv2.cvtColor(comp,cv2.COLOR_RGB2BGR)\n",
    "    cv2.imwrite(\"./outputs/P3-Compare-{0}.jpg\".format(I),comp_)\n",
    "\n"
   ]
  },
  {
   "cell_type": "markdown",
   "metadata": {},
   "source": [
    "# Problem #4: Canny"
   ]
  },
  {
   "cell_type": "markdown",
   "metadata": {},
   "source": [
    "### Primary Canny"
   ]
  },
  {
   "cell_type": "code",
   "execution_count": 37,
   "metadata": {},
   "outputs": [
    {
     "data": {
      "text/plain": [
       "True"
      ]
     },
     "execution_count": 37,
     "metadata": {},
     "output_type": "execute_result"
    }
   ],
   "source": [
    "in_img = cv2.imread(\"./edge.jpg\",0)\n",
    "DetectedEdges = cv2.Canny(in_img,100,200) # parameter by https://docs.opencv.org/4.x/da/d22/tutorial_py_canny.html \n",
    "Compare = cv2.hconcat([DetectedEdges,in_img])\n",
    "cv2.imwrite(\"./outputs/P4-Canny out-compare.jpg\",Compare)\n"
   ]
  },
  {
   "cell_type": "markdown",
   "metadata": {},
   "source": [
    "### Remove extra edges"
   ]
  },
  {
   "cell_type": "code",
   "execution_count": 50,
   "metadata": {},
   "outputs": [],
   "source": [
    "# Median Filtering\n",
    "for k in [3,5,7,9]:\n",
    "    in_img = cv2.imread(\"./edge.jpg\",0)\n",
    "    img_f = cv2.medianBlur(in_img,k)\n",
    "    DetectedEdges = cv2.Canny(img_f,100,200)\n",
    "    Compare = cv2.hconcat([DetectedEdges,img_f,in_img])\n",
    "    cv2.imwrite(\"./outputs/P4-Canny out-compare-Median-{0}.jpg\".format(k),Compare)\n",
    "    \n",
    "\n",
    "# Blur Filtering - avg\n",
    "for k in [3,5,7,9]:\n",
    "    in_img = cv2.imread(\"./edge.jpg\",0)\n",
    "    img_f = cv2.blur(in_img,(k,k))\n",
    "    DetectedEdges = cv2.Canny(img_f,100,200)\n",
    "    Compare = cv2.hconcat([DetectedEdges,img_f,in_img])\n",
    "    cv2.imwrite(\"./outputs/P4-Canny out-compare-AVG-{0}.jpg\".format(k),Compare)\n",
    "    \n",
    "    \n",
    "\n",
    "# Gus Filtering - avg\n",
    "for k in [3,5,7,9]:\n",
    "    in_img = cv2.imread(\"./edge.jpg\",0)\n",
    "    img_f = cv2.GaussianBlur(in_img,(k,k),20)\n",
    "    DetectedEdges = cv2.Canny(img_f,100,200)\n",
    "    Compare = cv2.hconcat([DetectedEdges,img_f,in_img])\n",
    "    cv2.imwrite(\"./outputs/P4-Canny out-compare-GuassianBlur-{0}.jpg\".format(k),Compare)\n",
    "    \n",
    "\n",
    "# Bilateral Filtering - avg\n",
    "for k in [3,5,7,9]:\n",
    "    in_img = cv2.imread(\"./edge.jpg\",0)\n",
    "    img_f = cv2.bilateralFilter(in_img,k,95,65)\n",
    "    DetectedEdges = cv2.Canny(img_f,100,200)\n",
    "    Compare = cv2.hconcat([DetectedEdges,img_f,in_img])\n",
    "    cv2.imwrite(\"./outputs/P4-Canny out-compare-Bilateral-{0}.jpg\".format(k),Compare)"
   ]
  },
  {
   "cell_type": "markdown",
   "metadata": {},
   "source": [
    "# Problem 5 : Histogram"
   ]
  },
  {
   "cell_type": "code",
   "execution_count": 67,
   "metadata": {},
   "outputs": [
    {
     "data": {
      "text/plain": [
       "True"
      ]
     },
     "execution_count": 67,
     "metadata": {},
     "output_type": "execute_result"
    }
   ],
   "source": [
    "# RGB Channel\n",
    "img_in = cv2.imread(\"./P5-in.jpg\")\n",
    "equlize = np.zeros_like(img_in,dtype=np.uint8)\n",
    "for c in range(3):\n",
    "    equlize[:,:,c] = cv2.equalizeHist(img_in[:,:,c])\n",
    "cv2.imwrite(\"./outputs/P5-result-RGB.jpg\",equlize)\n",
    "com = cv2.vconcat([img_in,equlize])\n",
    "cv2.imwrite(\"./outputs/P5-compare-RGB.jpg\",com)\n",
    "\n",
    "# HSV Channel \n",
    "img_in = cv2.imread(\"./P5-in.jpg\")\n",
    "hsv = cv2.cvtColor(img_in,cv2.COLOR_BGR2HSV)\n",
    "hsv[:,:,2] = cv2.equalizeHist(hsv[:,:,2])\n",
    "equlize = cv2.cvtColor(hsv,cv2.COLOR_HSV2BGR)\n",
    "\n",
    "cv2.imwrite(\"./outputs/P5-result-HSV.jpg\",equlize)\n",
    "com = cv2.vconcat([img_in,equlize])\n",
    "cv2.imwrite(\"./outputs/P5-compare-HSV.jpg\",com)\n"
   ]
  },
  {
   "cell_type": "code",
   "execution_count": 60,
   "metadata": {},
   "outputs": [
    {
     "data": {
      "text/plain": [
       "(3, 256)"
      ]
     },
     "execution_count": 60,
     "metadata": {},
     "output_type": "execute_result"
    }
   ],
   "source": []
  },
  {
   "cell_type": "code",
   "execution_count": null,
   "metadata": {},
   "outputs": [],
   "source": []
  }
 ],
 "metadata": {
  "kernelspec": {
   "display_name": "Python 3.9.12 ('base')",
   "language": "python",
   "name": "python3"
  },
  "language_info": {
   "codemirror_mode": {
    "name": "ipython",
    "version": 3
   },
   "file_extension": ".py",
   "mimetype": "text/x-python",
   "name": "python",
   "nbconvert_exporter": "python",
   "pygments_lexer": "ipython3",
   "version": "3.9.12"
  },
  "orig_nbformat": 4,
  "vscode": {
   "interpreter": {
    "hash": "dc8f41598815372d424d3d64f4c954dc34c138854ca7d29dfa59a43d1be47155"
   }
  }
 },
 "nbformat": 4,
 "nbformat_minor": 2
}
