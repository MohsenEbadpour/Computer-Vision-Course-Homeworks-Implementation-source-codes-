{
 "cells": [
  {
   "cell_type": "code",
   "execution_count": null,
   "metadata": {},
   "outputs": [],
   "source": [
    "import numpy as np\n",
    "import cv2\n",
    "import matplotlib.pyplot as plt\n",
    "plt.rcParams[\"figure.figsize\"] = (20,10)"
   ]
  },
  {
   "cell_type": "code",
   "execution_count": null,
   "metadata": {},
   "outputs": [],
   "source": [
    "img = cv2.imread('Koala.jpg')\n",
    "\n",
    "def CreateOctave(img):\n",
    "    results = []\n",
    "    octave = []\n",
    "    guassian_blur_sigmas = [1, 2, 4, 8]\n",
    "    \n",
    "    for i in range(4):\n",
    "        octave.append(img)\n",
    "        for sigma in guassian_blur_sigmas:\n",
    "            octave.append(cv2.GaussianBlur(img, (7, 7), sigma))\n",
    "            \n",
    "        results.append(octave)\n",
    "        octave = []\n",
    "        img = cv2.pyrDown(img)\n",
    "\n",
    "    return results\n",
    "\n",
    "I = 1 \n",
    "octaves = CreateOctave(img)\n",
    "for octave in octaves:\n",
    "    for img in octave:\n",
    "        plt.subplot(4, 5, I)\n",
    "        I += 1\n",
    "        plt.imshow(img)\n",
    "        #plt.axis(\"off\")\n",
    "        \n",
    "        \n",
    "plt.tight_layout()\n",
    "plt.show()"
   ]
  },
  {
   "cell_type": "code",
   "execution_count": null,
   "metadata": {},
   "outputs": [],
   "source": [
    "def DoGC(octave):\n",
    "    results = []\n",
    "    for i in range(1,5):\n",
    "        results.append(cv2.subtract(octave[i], octave[i-1]))\n",
    "    return results\n",
    "\n",
    "I=1\n",
    "for octave in octaves:\n",
    "    for img in DoGC(octave):\n",
    "        plt.subplot(4, 4, I)\n",
    "        I += 1\n",
    "        gray_img = cv2.cvtColor(img, cv2.COLOR_BGR2GRAY)\n",
    "        gray_img = cv2.equalizeHist(gray_img)\n",
    "        plt.imshow(gray_img,cmap=\"gray\")\n",
    "        #plt.axis(\"off\")\n",
    "plt.show()"
   ]
  },
  {
   "cell_type": "code",
   "execution_count": null,
   "metadata": {},
   "outputs": [],
   "source": []
  },
  {
   "cell_type": "code",
   "execution_count": null,
   "metadata": {},
   "outputs": [],
   "source": []
  }
 ],
 "metadata": {
  "kernelspec": {
   "display_name": "Python 3.9.12 ('base')",
   "language": "python",
   "name": "python3"
  },
  "language_info": {
   "codemirror_mode": {
    "name": "ipython",
    "version": 3
   },
   "file_extension": ".py",
   "mimetype": "text/x-python",
   "name": "python",
   "nbconvert_exporter": "python",
   "pygments_lexer": "ipython3",
   "version": "3.9.12 (main, Apr  5 2022, 01:53:17) \n[Clang 12.0.0 ]"
  },
  "orig_nbformat": 4,
  "vscode": {
   "interpreter": {
    "hash": "dc8f41598815372d424d3d64f4c954dc34c138854ca7d29dfa59a43d1be47155"
   }
  }
 },
 "nbformat": 4,
 "nbformat_minor": 2
}
