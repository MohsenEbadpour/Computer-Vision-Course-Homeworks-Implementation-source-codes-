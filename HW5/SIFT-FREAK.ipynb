{
 "cells": [
  {
   "cell_type": "code",
   "execution_count": null,
   "metadata": {},
   "outputs": [],
   "source": [
    "import numpy as np\n",
    "import cv2\n",
    "import matplotlib.pyplot as plt\n",
    "plt.rcParams[\"figure.figsize\"] = (20,10)\n",
    "import scipy.ndimage as ndimage\n",
    "import time"
   ]
  },
  {
   "cell_type": "code",
   "execution_count": null,
   "metadata": {},
   "outputs": [],
   "source": [
    "\n",
    "def RotateImage(img, angle,cval=255):\n",
    "    img = img.copy()\n",
    "    img = ndimage.rotate(img, angle, cval=cval)\n",
    "    return img\n",
    "\n",
    "def get_SIFT_Rotation_angle(img_1, img_2):\n",
    "    img_1 = img_1.copy()\n",
    "    img_2 = img_2.copy()\n",
    "    \n",
    "    sift = cv2.SIFT_create()\n",
    "    kp_1 = sift.detect(img_1,None)\n",
    "    kp_2 = sift.detect(img_2,None)\n",
    "    \n",
    "    start = time.time()\n",
    "    des_1 = sift.compute(img_1,kp_1)[1] \n",
    "    des_2 = sift.compute(img_2,kp_2)[1]\n",
    "    end = time.time() - start\n",
    "    \n",
    "    bf = cv2.BFMatcher()\n",
    "    matches = bf.knnMatch(des_1,des_2, k=2)\n",
    "    good = []\n",
    "    for m,n in matches:\n",
    "        if m.distance < 0.3 * n.distance:\n",
    "            good.append([m]) \n",
    "            \n",
    "\n",
    "    src_pts = np.float32([ kp_1[m[0].queryIdx].pt for m in good ]).reshape(-1,1,2)\n",
    "    dst_pts = np.float32([ kp_2[m[0].trainIdx].pt for m in good ]).reshape(-1,1,2)\n",
    "    M, mask = cv2.findHomography(src_pts, dst_pts, cv2.RANSAC,5.0)\n",
    "    img3 = cv2.drawMatchesKnn(img_1,kp_1,img_2,kp_2,good,None,    matchColor = (200,30,30), singlePointColor = None,flags = 2)\n",
    "    return np.rad2deg(np.arctan2(M[1,0],M[0,0])) , end,img3"
   ]
  },
  {
   "cell_type": "code",
   "execution_count": null,
   "metadata": {},
   "outputs": [],
   "source": [
    "def get_FREAK_Rotation_angle(img_1, img_2):\n",
    "    img_1 = img_1.copy()\n",
    "    img_2 = img_2.copy()\n",
    "    \n",
    "    sift = cv2.SIFT_create()\n",
    "    kp_1 = sift.detect(img_1,None)\n",
    "    kp_2 = sift.detect(img_2,None)\n",
    "    \n",
    "    start = time.time()\n",
    "    freakExtractor = cv2.xfeatures2d.FREAK_create()\n",
    "    kp_1,des_1 = freakExtractor.compute(img_1,kp_1)\n",
    "    kp_2,des_2 = freakExtractor.compute(img_2,kp_2)\n",
    "    end = time.time() - start\n",
    "    \n",
    "    bf = cv2.BFMatcher()\n",
    "    matches = bf.knnMatch(des_1,des_2, k=2)\n",
    "    good = []\n",
    "    for m,n in matches:\n",
    "        if m.distance < 0.4 * n.distance:\n",
    "            good.append([m])   \n",
    "    \n",
    "    src_pts = np.float32([ kp_1[m[0].queryIdx].pt for m in good ]).reshape(-1,1,2)\n",
    "    dst_pts = np.float32([ kp_2[m[0].trainIdx].pt for m in good ]).reshape(-1,1,2)\n",
    "    M, mask = cv2.findHomography(src_pts, dst_pts, cv2.RANSAC,5.0)\n",
    "    img3 = cv2.drawMatchesKnn(img_1,kp_1,img_2,kp_2,good,None,    matchColor = (200,30,30), singlePointColor = None,flags = 2)\n",
    "    return np.rad2deg(np.arctan2(M[1,0],M[0,0])),end, img3\n"
   ]
  },
  {
   "cell_type": "code",
   "execution_count": null,
   "metadata": {},
   "outputs": [],
   "source": [
    "def get_ORB_Rotation_angle(img_1,img_2):\n",
    "    img_1 = img_1.copy()\n",
    "    img_2 = img_2.copy()\n",
    "    \n",
    "    orb = cv2.ORB_create()\n",
    "    kp_1 = orb.detect(img_1,None)\n",
    "    kp_2 = orb.detect(img_2,None)\n",
    "    \n",
    "    start = time.time()\n",
    "    kp_1,des_1 = orb.compute(img_1,kp_1)\n",
    "    kp_2,des_2 = orb.compute(img_2,kp_2)\n",
    "    end = time.time() - start\n",
    "    \n",
    "    bf = cv2.BFMatcher(cv2.NORM_HAMMING, crossCheck=True)\n",
    "    matches = bf.match(des_1,des_2)\n",
    "    matches = sorted(matches, key = lambda x:x.distance)\n",
    "    good = matches[:int(len(matches)*0.2)]\n",
    "    \n",
    "    src_pts = np.float32([ kp_1[m.queryIdx].pt for m in good ]).reshape(-1,1,2)\n",
    "    dst_pts = np.float32([ kp_2[m.trainIdx].pt for m in good ]).reshape(-1,1,2)\n",
    "    M, mask = cv2.findHomography(src_pts, dst_pts, cv2.RANSAC,5.0)\n",
    "    img3 = cv2.drawMatches(img_1,kp_1,img_2,kp_2,good,None,    matchColor = (200,30,30), singlePointColor = None,flags = 2)\n",
    "    return np.rad2deg(np.arctan2(M[1,0],M[0,0])),end, img3\n"
   ]
  },
  {
   "cell_type": "code",
   "execution_count": null,
   "metadata": {},
   "outputs": [],
   "source": [
    "def report(img_1,img_2,img_res,angle_applied,angle_detected,_time,method=\"SIFT\"):\n",
    "    img_rerotate = RotateImage(img_2, angle=angle_detected, cval=128)\n",
    "    angle_detected = round(angle_detected,4)\n",
    "    _time = round(_time,4)\n",
    "    angle_applied = round(angle_applied,4)\n",
    "    w,h = 2,2\n",
    "    I = 1 \n",
    "    plt.subplot(w,h,I);I+=1;plt.imshow(img_1, 'gray');plt.title(\"Original Image\");plt.axis('off')\n",
    "    plt.subplot(w,h,I);I+=1;plt.imshow(img_2, 'gray');plt.title(\"Rotated Image | Applied angle: {0}\".format(angle_applied));plt.axis('off')\n",
    "    plt.subplot(w,h,I);I+=1;plt.imshow(img_res, 'gray');plt.title(\"{2} Matches | Comput Time: {0}s | Detected angle: {1}\".format(_time,angle_detected,method));plt.axis('off')\n",
    "    plt.subplot(w,h,I);I+=1;plt.imshow(img_rerotate, 'gray');plt.title(\"Re-Rotated Image\");plt.axis('off')\n",
    "    plt.tight_layout()\n",
    "    plt.show()"
   ]
  },
  {
   "cell_type": "code",
   "execution_count": null,
   "metadata": {},
   "outputs": [],
   "source": [
    "def get_three_random_angles():\n",
    "    return np.random.randint(0,360,3)\n",
    "\n",
    "img_1 = cv2.imread(\"test.jpg\")[:,:,::-1]\n",
    "\n",
    "angles = get_three_random_angles()\n",
    "for rotate_angle in angles:\n",
    "    img_2 = RotateImage(img_1, rotate_angle,50)\n",
    "    angle,end,img_res = get_FREAK_Rotation_angle(img_1, img_2)\n",
    "    img_3 = RotateImage(img_2, angle=angle, cval=128)\n",
    "    angle,end\n",
    "    report(img_1,img_2,img_res,rotate_angle,angle,end,\"FREAK\")\n",
    "\n",
    "    img_2 = RotateImage(img_1, rotate_angle,50)\n",
    "    angle,end,img_res = get_SIFT_Rotation_angle(img_1, img_2)\n",
    "    img_3 = RotateImage(img_2, angle=angle, cval=128)\n",
    "    angle,end\n",
    "    report(img_1,img_2,img_res,rotate_angle,angle,end,\"SIFT\")\n",
    "\n",
    "    img_2 = RotateImage(img_1, rotate_angle,50)\n",
    "    angle,end,img_res = get_ORB_Rotation_angle(img_1, img_2)\n",
    "    img_3 = RotateImage(img_2, angle=angle, cval=128)\n",
    "    angle,end\n",
    "    report(img_1,img_2,img_res,rotate_angle,angle,end,\"ORB\")"
   ]
  },
  {
   "cell_type": "code",
   "execution_count": null,
   "metadata": {},
   "outputs": [],
   "source": [
    "\n",
    "\n"
   ]
  },
  {
   "cell_type": "code",
   "execution_count": null,
   "metadata": {},
   "outputs": [],
   "source": []
  }
 ],
 "metadata": {
  "kernelspec": {
   "display_name": "base",
   "language": "python",
   "name": "python3"
  },
  "language_info": {
   "codemirror_mode": {
    "name": "ipython",
    "version": 3
   },
   "file_extension": ".py",
   "mimetype": "text/x-python",
   "name": "python",
   "nbconvert_exporter": "python",
   "pygments_lexer": "ipython3",
   "version": "3.9.12 (main, Apr  5 2022, 01:53:17) \n[Clang 12.0.0 ]"
  },
  "orig_nbformat": 4,
  "vscode": {
   "interpreter": {
    "hash": "dc8f41598815372d424d3d64f4c954dc34c138854ca7d29dfa59a43d1be47155"
   }
  }
 },
 "nbformat": 4,
 "nbformat_minor": 2
}
